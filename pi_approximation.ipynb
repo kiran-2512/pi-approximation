{
 "cells": [
  {
   "cell_type": "code",
   "execution_count": 1,
   "id": "7ddae2a2-fd73-490d-856d-4658e08489d8",
   "metadata": {},
   "outputs": [
    {
     "name": "stdout",
     "output_type": "stream",
     "text": [
      "Enter the darts Thrown: 12\n"
     ]
    },
    {
     "data": {
      "image/png": "[encoded data removed]",
      "text/plain": [
       "<Figure size 360x360 with 1 Axes>"
      ]
     },
     "metadata": {
      "needs_background": "light"
     },
     "output_type": "display_data"
    },
    {
     "name": "stdout",
     "output_type": "stream",
     "text": [
      "Approximation of pi after 12 darts: 3.3333333333333335\n"
     ]
    }
   ],
   "source": [
    "import matplotlib.pyplot as plt\n",
    "import random\n",
    "\n",
    "def approximate_pi_with_visualization(num_darts):\n",
    "    inside_x = []\n",
    "    inside_y = []\n",
    "    outside_x = []\n",
    "    outside_y = []\n",
    "\n",
    "    inside_circle = 0\n",
    "\n",
    "    for _ in range(num_darts):\n",
    "        x = random.uniform(-1, 1)\n",
    "        y = random.uniform(-1, 1)\n",
    "        if x**2 + y**2 <= 1:\n",
    "            inside_circle += 1\n",
    "            inside_x.append(x)\n",
    "            inside_y.append(y)\n",
    "        else:\n",
    "            outside_x.append(x)\n",
    "            outside_y.append(y)\n",
    "\n",
    "    pi_approx = (inside_circle / num_darts) * 4\n",
    "\n",
    "    # Plotting the darts\n",
    "    plt.figure(figsize=(5, 5))\n",
    "    plt.scatter(inside_x, inside_y, color='orange')\n",
    "    plt.scatter(outside_x, outside_y, color='red')\n",
    "    plt.xlabel(\"X\")\n",
    "    plt.ylabel(\"Y\")\n",
    "    plt.show()\n",
    "\n",
    "    return pi_approx\n",
    "\n",
    "# Example usage\n",
    "num_darts = int(input(\"Enter the darts Thrown: \"))\n",
    "pi_estimate = approximate_pi_with_visualization(num_darts)\n",
    "print(f\"Approximation of pi after {num_darts} darts: {pi_estimate}\")\n"
   ]
  },
  {
   "cell_type": "code",
   "execution_count": null,
   "id": "fd8d9c54-0fc8-4677-a2e5-e67678c9a9e8",
   "metadata": {},
   "outputs": [],
   "source": []
  }
 ],
 "metadata": {
  "kernelspec": {
   "display_name": "Python 3 (ipykernel)",
   "language": "python",
   "name": "python3"
  },
  "language_info": {
   "codemirror_mode": {
    "name": "ipython",
    "version": 3
   },
   "file_extension": ".py",
   "mimetype": "text/x-python",
   "name": "python",
   "nbconvert_exporter": "python",
   "pygments_lexer": "ipython3",
   "version": "3.9.7"
  }
 },
 "nbformat": 4,
 "nbformat_minor": 5
}
